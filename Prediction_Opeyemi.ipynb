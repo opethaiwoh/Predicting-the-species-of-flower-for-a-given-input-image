{
  "cells": [
    {
      "cell_type": "markdown",
      "source": [
        "# Predicting the species of flower for a given input image"
      ],
      "metadata": {
        "id": "_uFLrG8inBDH"
      }
    },
    {
      "cell_type": "code",
      "execution_count": null,
      "metadata": {
        "id": "peWUEUV-_A6L"
      },
      "outputs": [],
      "source": [
        "from google.colab import drive\n",
        "drive.mount('/content/drive')"
      ]
    },
    {
      "cell_type": "code",
      "source": [
        "import pandas as pd\n",
        "from sklearn.model_selection import train_test_split\n",
        "from sklearn.feature_extraction.text import TfidfVectorizer\n",
        "from sklearn.linear_model import LogisticRegression\n",
        "from  sklearn.metrics  import accuracy_score\n",
        "from sklearn.feature_extraction.text import CountVectorizer\n",
        "import seaborn as sn\n",
        "import matplotlib.pyplot as plt\n",
        "from sklearn.ensemble import RandomForestRegressor\n",
        "from sklearn.neighbors import KNeighborsClassifier\n",
        "import re\n",
        "import numpy as np\n",
        "import cv2\n",
        "import os\n",
        "import imutils\n",
        "import glob\n",
        "import argparse\n",
        "from sklearn import preprocessing\n",
        "from sklearn.preprocessing import LabelEncoder\n",
        "from sklearn.metrics import classification_report,confusion_matrix, accuracy_score\n",
        "from sklearn.preprocessing import StandardScaler\n",
        "from imutils import paths\n",
        "import argparse"
      ],
      "metadata": {
        "id": "cswXKR1pQ13C"
      },
      "execution_count": null,
      "outputs": []
    },
    {
      "cell_type": "code",
      "source": [
        "Fimg = list(paths.list_images('/content/drive/MyDrive/502/datasets_final/flowers17/images'))"
      ],
      "metadata": {
        "id": "dQPptIMwQ2fT"
      },
      "execution_count": null,
      "outputs": []
    },
    {
      "cell_type": "code",
      "source": [
        "\n",
        "class SimplePreprocessor:\n",
        "    def __init__(self, width, height, inter=cv2.INTER_AREA):\n",
        "        self.width = width\n",
        "        self.height = height\n",
        "        self.inter = inter\n",
        "    def preprocess(self, image):\n",
        "        return cv2.resize(image, (self.width, self.height),\n",
        "            interpolation=self.inter)\n",
        "class SimpleDatasetLoader:\n",
        "    def __init__(self, preprocessors=None):\n",
        "        self.preprocessors = preprocessors\n",
        "        if self.preprocessors is None:\n",
        "            self.preprocessors = []\n",
        "\n",
        "    def load(self, imagePaths, verbose=-1):\n",
        "        data = []\n",
        "        labels = []\n",
        "\n",
        "        for (i, imagePath) in enumerate(imagePaths):\n",
        "            image = cv2.imread(imagePath)\n",
        "            label = imagePath.split(os.path.sep)[-2]\n",
        "            if self.preprocessors is not None:\n",
        "                for p in self.preprocessors:\n",
        "                    image = p.preprocess(image)\n",
        "            data.append(image)\n",
        "            labels.append(label)\n",
        "            if verbose > 0 and i > 0 and (i + 1) % verbose == 0:\n",
        "                print(\"[INFO] processed {}/{}\".format(i + 1,\n",
        "                    len(imagePaths)))\n",
        "\n",
        "        return (np.array(data), np.array(labels))"
      ],
      "metadata": {
        "id": "W03ApRKVREKl"
      },
      "execution_count": null,
      "outputs": []
    },
    {
      "cell_type": "code",
      "source": [
        "#initialize the image preprocessor, \n",
        "fsp = SimplePreprocessor(32,32)\n",
        "fsd = SimpleDatasetLoader(preprocessors=[sp])\n",
        "\n",
        "(flowers, labels) = fsd.load(Fimg, verbose = 500)\n",
        "flowers = flowers.reshape((flowers.shape[0], 3072))\n",
        " \n",
        " # showing some information on memory consumption of the images\n",
        "print(\"INFO feature matrix: {:.1f}MB\".format(flowers.nbytes/(1024*1000.0)))"
      ],
      "metadata": {
        "id": "x3bAA95VSsux"
      },
      "execution_count": null,
      "outputs": []
    },
    {
      "cell_type": "code",
      "source": [
        "labels"
      ],
      "metadata": {
        "id": "AoSVA_RISwcv"
      },
      "execution_count": null,
      "outputs": []
    },
    {
      "cell_type": "code",
      "source": [
        "#Applying an Encoder to the labels of each flower\n",
        "lb = LabelEncoder()\n",
        "labels = lb.fit_transform(labels)\n",
        "labels"
      ],
      "metadata": {
        "id": "bcuv-hEKUqq4"
      },
      "execution_count": null,
      "outputs": []
    },
    {
      "cell_type": "code",
      "source": [
        "#Partioning the data into training adn testing splits using 20% for test images\n",
        "#the remaining 80% for training data\n",
        "\n",
        "Xtrain, Xtest, ytrain, ytest = train_test_split(flowers,labels,test_size=0.2, random_state=42)"
      ],
      "metadata": {
        "id": "-Puo3qQXUtK4"
      },
      "execution_count": null,
      "outputs": []
    },
    {
      "cell_type": "code",
      "source": [
        "\n",
        "Xtrain_scale = Xtrain/255"
      ],
      "metadata": {
        "id": "YA1lKJgkUw0Q"
      },
      "execution_count": null,
      "outputs": []
    },
    {
      "cell_type": "code",
      "source": [
        "#Using logistic regression\n",
        "logistic_regression = LogisticRegression(max_iter=1000)\n",
        "logistic_regression.fit(Xtrain,ytrain)\n",
        "\n",
        "y_pred = logistic_regression.predict(Xtest)"
      ],
      "metadata": {
        "id": "rlVhX-3TU76k"
      },
      "execution_count": null,
      "outputs": []
    },
    {
      "cell_type": "code",
      "source": [
        "print(classification_report(ytest,logistic_regression.predict(Xtest), target_names = le.classes_))"
      ],
      "metadata": {
        "id": "Wqbd8rFxVAPK"
      },
      "execution_count": null,
      "outputs": []
    },
    {
      "cell_type": "code",
      "source": [
        "plot_confusion_matrix(logistic_regression, Xtest, ytest) \n",
        "plt.title('Logistic Regression')\n",
        "plt.show()"
      ],
      "metadata": {
        "id": "imMC9JuvVLVO"
      },
      "execution_count": null,
      "outputs": []
    },
    {
      "cell_type": "code",
      "source": [
        "#Using KNN Classifier\n",
        "model = KNeighborsClassifier()\n",
        "model.fit(Xtrain,ytrain)"
      ],
      "metadata": {
        "id": "XOuWPlSGVUCq"
      },
      "execution_count": null,
      "outputs": []
    },
    {
      "cell_type": "code",
      "source": [
        "print(classification_report(ytest,model.predict(Xtest), target_names = le.classes_))"
      ],
      "metadata": {
        "id": "a0vSI6GzVWPe"
      },
      "execution_count": null,
      "outputs": []
    },
    {
      "cell_type": "code",
      "source": [
        "plot_confusion_matrix(model, Xtest, ytest) \n",
        "plt.title('K-NN classifier')\n",
        "plt.show()"
      ],
      "metadata": {
        "id": "5dC57C-fVYep"
      },
      "execution_count": null,
      "outputs": []
    },
    {
      "cell_type": "code",
      "source": [
        "#Using Neural Network\n",
        "flp = MLPClassifier(hidden_layer_sizes=(512,256,128,64),activation=\"relu\",random_state=1)"
      ],
      "metadata": {
        "id": "lmwSvRidVfiq"
      },
      "execution_count": null,
      "outputs": []
    },
    {
      "cell_type": "code",
      "source": [
        "flp.fit(Xtrain, ytrain)\n",
        "print(classification_report(ytest, mlp.predict(Xtest),target_names=le.classes_))"
      ],
      "metadata": {
        "id": "mzDuncMIViU1"
      },
      "execution_count": null,
      "outputs": []
    },
    {
      "cell_type": "code",
      "source": [
        "plot_confusion_matrix(mlp, Xtest, ytest) \n",
        "plt.title('Neural Network')\n",
        "plt.show()"
      ],
      "metadata": {
        "id": "GiZ_NQcHVkRE"
      },
      "execution_count": null,
      "outputs": []
    },
    {
      "cell_type": "code",
      "source": [
        "#Perform a K-means clustering\n",
        "km = KMeans(n_clusters=5,init = 'k-means++')\n",
        "y_pred = km.fit_predict(flowers)"
      ],
      "metadata": {
        "id": "PwpDqeTXWMid"
      },
      "execution_count": null,
      "outputs": []
    },
    {
      "cell_type": "code",
      "source": [
        "Error = []\n",
        "\n",
        "for k in range(1,20,2):\n",
        "  km1 = KMeans(n_clusters=k, init=\"k-means++\")\n",
        "  km1.fit(flowers)\n",
        "  Error.append(km1.inertia_)\n",
        "\n",
        "plt.figure(figsize=(12,6))    \n",
        "plt.plot(range(1,20,2),Error, linewidth=2, color=\"red\", marker =\"8\")\n",
        "plt.xlabel(\"K Value\")\n",
        "plt.xticks(np.arange(1,20,2))\n",
        "plt.ylabel(\"Error\")\n",
        "plt.show()"
      ],
      "metadata": {
        "id": "n2bieUC2WSiL"
      },
      "execution_count": null,
      "outputs": []
    },
    {
      "cell_type": "code",
      "source": [
        "#Create a new test dataset of 10 images\n",
        "fsm_img = list(paths.list_images('/content/drive/MyDrive/502/datasets_final/jpg'))\n",
        "fsm_path = np.array(fsm_img)"
      ],
      "metadata": {
        "id": "J6nWe1_7XV4c"
      },
      "execution_count": null,
      "outputs": []
    },
    {
      "cell_type": "code",
      "source": [
        "f_sp = SimplePreprocessor(32,32)\n",
        "f_sd = SimpleDatasetLoader(preprocessors=[f_sp])\n",
        "\n",
        "(data, labels) = sd.load(fsm_path, verbose=500)\n",
        "data = data.reshape((data.shape[0], 3072))\n",
        "\n",
        "flowerLabels = ['bluebell', 'buttercup', 'coltsfoot', 'cowslip', 'crocus', 'daffodil', 'daisy', 'dandelion', 'fritillary', 'iris', 'lilyvalley', 'pansy', 'snowdrop', \n",
        " 'sunflower', 'tigerlily', 'tulip', 'windflower']"
      ],
      "metadata": {
        "id": "Egc5Vq3buBB4"
      },
      "execution_count": null,
      "outputs": []
    },
    {
      "cell_type": "code",
      "source": [
        "from google.colab.patches import cv2_imshow\n",
        "\n",
        "def display(predicted):\n",
        "  f = [flowerLabels[a] for a in predicted]\n",
        "  print(f'Flowers found : \\n {f}\\n')\n",
        "  for (i, imagePath) in enumerate(image_path):\n",
        "    # load the example image, draw the prediction, and display it\n",
        "    # to our screen\n",
        "    image = cv2.imread(imagePath)\n",
        "    cv2.putText(image, \"Label: {}\".format(flowerLabels[predicted[i]]),(10, 30), cv2.FONT_HERSHEY_SIMPLEX, 0.7, (255, 0, 0), 2)\n",
        "    cv2_imshow(image)\n",
        "    cv2.waitKey(1)"
      ],
      "metadata": {
        "id": "k9L5Hy2kuNnC"
      },
      "execution_count": null,
      "outputs": []
    },
    {
      "cell_type": "code",
      "source": [
        "#Using Logistic Regression\n",
        "print(\"Predicting with Logic Regression\")\n",
        "f1_pred = logistic_regression.predict(data)\n",
        "f1_pred\n",
        "display(f1_pred)"
      ],
      "metadata": {
        "id": "IeDfqNExuU5_"
      },
      "execution_count": null,
      "outputs": []
    },
    {
      "cell_type": "code",
      "source": [
        "#Using K-NN Classifier\n",
        "print(\"Predicting with K-NN Classifier\")\n",
        "f2_pred = model.predict(data)\n",
        "f2_pred\n",
        "display(f2_pred)"
      ],
      "metadata": {
        "id": "OlTniTeduqQw"
      },
      "execution_count": null,
      "outputs": []
    },
    {
      "cell_type": "code",
      "source": [
        "#Using Neural Network\n",
        "print(\"Predicting with Neural Network\")\n",
        "f3_pred = mlp.predict(data)\n",
        "f3_pred\n",
        "display(f3_pred)"
      ],
      "metadata": {
        "id": "KBdprUHSv87u"
      },
      "execution_count": null,
      "outputs": []
    },
    {
      "cell_type": "code",
      "source": [],
      "metadata": {
        "id": "wA9510M8xWXw"
      },
      "execution_count": null,
      "outputs": []
    }
  ],
  "metadata": {
    "colab": {
      "collapsed_sections": [],
      "provenance": []
    },
    "kernelspec": {
      "display_name": "Python 3 (ipykernel)",
      "language": "python",
      "name": "python3"
    },
    "language_info": {
      "codemirror_mode": {
        "name": "ipython",
        "version": 3
      },
      "file_extension": ".py",
      "mimetype": "text/x-python",
      "name": "python",
      "nbconvert_exporter": "python",
      "pygments_lexer": "ipython3",
      "version": "3.9.7"
    }
  },
  "nbformat": 4,
  "nbformat_minor": 0
}